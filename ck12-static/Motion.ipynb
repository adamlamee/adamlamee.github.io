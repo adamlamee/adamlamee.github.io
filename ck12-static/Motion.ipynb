{
 "cells": [
  {
   "cell_type": "markdown",
   "metadata": {},
   "source": [
    "# Motion Analysis\n",
    "In this example, you'll analyze the stright-line motion of an object.\n",
    "\n",
    "To get started,\n",
    "- First, click the disc icon at the top to save the notebook. That makes it easier to start over later if you need to.\n",
    "- Go to the menu bar above and select **Kernel > Restart & Run All**.\n",
    "- You won't hurt anything by experimenting. If you break it, go to **File > Revert to checkpoint** to start over.\n",
    "- Is this your first time? Need a refresher? Try the 5-minute [Intro to Jupyter activity](./Intro_to_Jupyter.ipynb) and come back here. \n",
    "\n",
    "When you're ready, scroll down to **Part One**."
   ]
  },
  {
   "cell_type": "code",
   "execution_count": 1,
   "metadata": {
    "collapsed": true
   },
   "outputs": [],
   "source": [
    "# First, we'll \"import\" the software packages needed.\n",
    "import pandas as pd\n",
    "import numpy as np\n",
    "%matplotlib inline\n",
    "import matplotlib as mpl\n",
    "import matplotlib.pyplot as plt\n",
    "inline_rc = dict(mpl.rcParams)\n",
    "\n",
    "# Starting a line with a hashtag tells the program not to read the line.\n",
    "# That way we can write \"comments\" to humans trying to figure out what the code does.\n",
    "# Blank lines don't do anything either, but they can make the code easier to read."
   ]
  },
  {
   "cell_type": "code",
   "execution_count": 2,
   "metadata": {
    "collapsed": false
   },
   "outputs": [
    {
     "data": {
      "text/html": [
       "<div>\n",
       "<style>\n",
       "    .dataframe thead tr:only-child th {\n",
       "        text-align: right;\n",
       "    }\n",
       "\n",
       "    .dataframe thead th {\n",
       "        text-align: left;\n",
       "    }\n",
       "\n",
       "    .dataframe tbody tr th {\n",
       "        vertical-align: top;\n",
       "    }\n",
       "</style>\n",
       "<table border=\"1\" class=\"dataframe\">\n",
       "  <thead>\n",
       "    <tr style=\"text-align: right;\">\n",
       "      <th></th>\n",
       "      <th>time (s)</th>\n",
       "      <th>position (m)</th>\n",
       "    </tr>\n",
       "  </thead>\n",
       "  <tbody>\n",
       "    <tr>\n",
       "      <th>0</th>\n",
       "      <td>0</td>\n",
       "      <td>0</td>\n",
       "    </tr>\n",
       "    <tr>\n",
       "      <th>1</th>\n",
       "      <td>1</td>\n",
       "      <td>2</td>\n",
       "    </tr>\n",
       "    <tr>\n",
       "      <th>2</th>\n",
       "      <td>2</td>\n",
       "      <td>4</td>\n",
       "    </tr>\n",
       "    <tr>\n",
       "      <th>3</th>\n",
       "      <td>3</td>\n",
       "      <td>6</td>\n",
       "    </tr>\n",
       "    <tr>\n",
       "      <th>4</th>\n",
       "      <td>4</td>\n",
       "      <td>10</td>\n",
       "    </tr>\n",
       "  </tbody>\n",
       "</table>\n",
       "</div>"
      ],
      "text/plain": [
       "   time (s)  position (m)\n",
       "0         0             0\n",
       "1         1             2\n",
       "2         2             4\n",
       "3         3             6\n",
       "4         4            10"
      ]
     },
     "execution_count": 2,
     "metadata": {},
     "output_type": "execute_result"
    }
   ],
   "source": [
    "# Whenever you type \"something =\" it defines a new variable, \"something\", \n",
    "# and sets it equal to whatever follows the equals sign. That could be a number, \n",
    "# another variable, or in this case an entire table of numbers.\n",
    "\n",
    "# enter raw data\n",
    "data = pd.DataFrame.from_items([\n",
    "        ('time (s)', [0,1,2,3,4]), \n",
    "        ('position (m)', [0,2,4,6,10])\n",
    "        ])\n",
    "# display data table\n",
    "data"
   ]
  },
  {
   "cell_type": "markdown",
   "metadata": {},
   "source": [
    "## Part One\n",
    "The code above has sample data for position and time.\n",
    "- Where was the object at two seconds?\n",
    "- Where did the object end up?\n",
    "- How long did it take to go from 2 m to 6 m?\n",
    "\n",
    "When you're ready, scroll down to **Part Two**."
   ]
  },
  {
   "cell_type": "code",
   "execution_count": 3,
   "metadata": {
    "collapsed": false
   },
   "outputs": [
    {
     "data": {
      "text/plain": [
       "<matplotlib.legend.Legend at 0x11928fda0>"
      ]
     },
     "execution_count": 3,
     "metadata": {},
     "output_type": "execute_result"
    },
    {
     "data": {
      "image/png": "[encoded data removed]",
      "text/plain": [
       "<matplotlib.figure.Figure at 0x115f3cb70>"
      ]
     },
     "metadata": {},
     "output_type": "display_data"
    }
   ],
   "source": [
    "# set variables = data['column label']\n",
    "time = data['time (s)']\n",
    "pos = data['position (m)']\n",
    "\n",
    "# this makes a scatterplot of the data\n",
    "# plt.scatter(x values, y values)\n",
    "plt.scatter(time, pos)\n",
    "plt.title(\"Constant Speed?\")\n",
    "plt.xlabel(\"Time (s)\")\n",
    "plt.ylabel(\"Position (m)\")\n",
    "plt.autoscale(tight=True)\n",
    "\n",
    "# calculate a trendline equation\n",
    "# np.polyfit( x values, y values, polynomial order)\n",
    "trend = np.polyfit(time, pos, 1)\n",
    "\n",
    "# plot trendline\n",
    "# plt.plot(x values, y values, other parameters)\n",
    "plt.plot(time, np.poly1d(trend)(time), label='trendline')\n",
    "plt.legend(loc='upper left')"
   ]
  },
  {
   "cell_type": "code",
   "execution_count": 4,
   "metadata": {
    "collapsed": false
   },
   "outputs": [
    {
     "data": {
      "text/plain": [
       "array([ 2.4, -0.4])"
      ]
     },
     "execution_count": 4,
     "metadata": {},
     "output_type": "execute_result"
    }
   ],
   "source": [
    "# display the trendline's coefficients (slope, y-int)\n",
    "trend"
   ]
  },
  {
   "cell_type": "markdown",
   "metadata": {},
   "source": [
    "## Part Two\n",
    "The graph above shows what the data in the table looks like.\n",
    "- When was the object moving at a constant speed?\n",
    "- When was it moving the fastest?\n",
    "- What feature of the trendline shows the average speed? Can you tell how fast that was?\n",
    "\n",
    "When you're ready, scroll down to **Part Three**."
   ]
  },
  {
   "cell_type": "code",
   "execution_count": 5,
   "metadata": {
    "collapsed": false
   },
   "outputs": [
    {
     "data": {
      "text/html": [
       "<div>\n",
       "<style>\n",
       "    .dataframe thead tr:only-child th {\n",
       "        text-align: right;\n",
       "    }\n",
       "\n",
       "    .dataframe thead th {\n",
       "        text-align: left;\n",
       "    }\n",
       "\n",
       "    .dataframe tbody tr th {\n",
       "        vertical-align: top;\n",
       "    }\n",
       "</style>\n",
       "<table border=\"1\" class=\"dataframe\">\n",
       "  <thead>\n",
       "    <tr style=\"text-align: right;\">\n",
       "      <th></th>\n",
       "      <th>time (s)</th>\n",
       "      <th>position (m)</th>\n",
       "      <th>velocity (m/s)</th>\n",
       "    </tr>\n",
       "  </thead>\n",
       "  <tbody>\n",
       "    <tr>\n",
       "      <th>0</th>\n",
       "      <td>0</td>\n",
       "      <td>0</td>\n",
       "      <td></td>\n",
       "    </tr>\n",
       "    <tr>\n",
       "      <th>1</th>\n",
       "      <td>1</td>\n",
       "      <td>2</td>\n",
       "      <td></td>\n",
       "    </tr>\n",
       "    <tr>\n",
       "      <th>2</th>\n",
       "      <td>2</td>\n",
       "      <td>4</td>\n",
       "      <td></td>\n",
       "    </tr>\n",
       "    <tr>\n",
       "      <th>3</th>\n",
       "      <td>3</td>\n",
       "      <td>6</td>\n",
       "      <td></td>\n",
       "    </tr>\n",
       "    <tr>\n",
       "      <th>4</th>\n",
       "      <td>4</td>\n",
       "      <td>10</td>\n",
       "      <td></td>\n",
       "    </tr>\n",
       "  </tbody>\n",
       "</table>\n",
       "</div>"
      ],
      "text/plain": [
       "   time (s)  position (m) velocity (m/s)\n",
       "0         0             0               \n",
       "1         1             2               \n",
       "2         2             4               \n",
       "3         3             6               \n",
       "4         4            10               "
      ]
     },
     "execution_count": 5,
     "metadata": {},
     "output_type": "execute_result"
    }
   ],
   "source": [
    "# create a new empty column\n",
    "data['velocity (m/s)'] = ''\n",
    "data"
   ]
  },
  {
   "cell_type": "code",
   "execution_count": 6,
   "metadata": {
    "collapsed": false
   },
   "outputs": [
    {
     "data": {
      "text/html": [
       "<div>\n",
       "<style>\n",
       "    .dataframe thead tr:only-child th {\n",
       "        text-align: right;\n",
       "    }\n",
       "\n",
       "    .dataframe thead th {\n",
       "        text-align: left;\n",
       "    }\n",
       "\n",
       "    .dataframe tbody tr th {\n",
       "        vertical-align: top;\n",
       "    }\n",
       "</style>\n",
       "<table border=\"1\" class=\"dataframe\">\n",
       "  <thead>\n",
       "    <tr style=\"text-align: right;\">\n",
       "      <th></th>\n",
       "      <th>time (s)</th>\n",
       "      <th>position (m)</th>\n",
       "      <th>velocity (m/s)</th>\n",
       "    </tr>\n",
       "  </thead>\n",
       "  <tbody>\n",
       "    <tr>\n",
       "      <th>0</th>\n",
       "      <td>0</td>\n",
       "      <td>0</td>\n",
       "      <td>2.0</td>\n",
       "    </tr>\n",
       "    <tr>\n",
       "      <th>1</th>\n",
       "      <td>1</td>\n",
       "      <td>2</td>\n",
       "      <td>2.0</td>\n",
       "    </tr>\n",
       "    <tr>\n",
       "      <th>2</th>\n",
       "      <td>2</td>\n",
       "      <td>4</td>\n",
       "      <td>2.0</td>\n",
       "    </tr>\n",
       "    <tr>\n",
       "      <th>3</th>\n",
       "      <td>3</td>\n",
       "      <td>6</td>\n",
       "      <td>4.0</td>\n",
       "    </tr>\n",
       "    <tr>\n",
       "      <th>4</th>\n",
       "      <td>4</td>\n",
       "      <td>10</td>\n",
       "      <td>NaN</td>\n",
       "    </tr>\n",
       "  </tbody>\n",
       "</table>\n",
       "</div>"
      ],
      "text/plain": [
       "   time (s)  position (m)  velocity (m/s)\n",
       "0         0             0             2.0\n",
       "1         1             2             2.0\n",
       "2         2             4             2.0\n",
       "3         3             6             4.0\n",
       "4         4            10             NaN"
      ]
     },
     "execution_count": 6,
     "metadata": {},
     "output_type": "execute_result"
    }
   ],
   "source": [
    "# np.diff() calculates the difference between a value and the one after it\n",
    "vel = np.diff(pos) / np.diff(time)\n",
    "\n",
    "# fill the velocity column with values from the formula\n",
    "data['velocity (m/s)'] = pd.DataFrame.from_items([('', vel)])\n",
    "\n",
    "# display the data table\n",
    "data"
   ]
  },
  {
   "cell_type": "code",
   "execution_count": 7,
   "metadata": {
    "collapsed": false
   },
   "outputs": [
    {
     "data": {
      "text/html": [
       "<div>\n",
       "<style>\n",
       "    .dataframe thead tr:only-child th {\n",
       "        text-align: right;\n",
       "    }\n",
       "\n",
       "    .dataframe thead th {\n",
       "        text-align: left;\n",
       "    }\n",
       "\n",
       "    .dataframe tbody tr th {\n",
       "        vertical-align: top;\n",
       "    }\n",
       "</style>\n",
       "<table border=\"1\" class=\"dataframe\">\n",
       "  <thead>\n",
       "    <tr style=\"text-align: right;\">\n",
       "      <th></th>\n",
       "      <th>time (s)</th>\n",
       "      <th>velocity (m/s)</th>\n",
       "    </tr>\n",
       "  </thead>\n",
       "  <tbody>\n",
       "    <tr>\n",
       "      <th>0</th>\n",
       "      <td>0</td>\n",
       "      <td>2.0</td>\n",
       "    </tr>\n",
       "    <tr>\n",
       "      <th>1</th>\n",
       "      <td>1</td>\n",
       "      <td>2.0</td>\n",
       "    </tr>\n",
       "    <tr>\n",
       "      <th>2</th>\n",
       "      <td>2</td>\n",
       "      <td>2.0</td>\n",
       "    </tr>\n",
       "    <tr>\n",
       "      <th>3</th>\n",
       "      <td>3</td>\n",
       "      <td>4.0</td>\n",
       "    </tr>\n",
       "  </tbody>\n",
       "</table>\n",
       "</div>"
      ],
      "text/plain": [
       "   time (s)  velocity (m/s)\n",
       "0         0             2.0\n",
       "1         1             2.0\n",
       "2         2             2.0\n",
       "3         3             4.0"
      ]
     },
     "execution_count": 7,
     "metadata": {},
     "output_type": "execute_result"
    }
   ],
   "source": [
    "# That last velocity value will cause problems for further coding\n",
    "# Make a new table using only rows 0 through 2\n",
    "data2 = data.loc[0:3,['time (s)', 'velocity (m/s)']]\n",
    "data2"
   ]
  },
  {
   "cell_type": "code",
   "execution_count": 8,
   "metadata": {
    "collapsed": false
   },
   "outputs": [
    {
     "data": {
      "text/plain": [
       "<matplotlib.legend.Legend at 0x119477eb8>"
      ]
     },
     "execution_count": 8,
     "metadata": {},
     "output_type": "execute_result"
    },
    {
     "data": {
      "image/png": "[encoded data removed]",
      "text/plain": [
       "<matplotlib.figure.Figure at 0x11940e7b8>"
      ]
     },
     "metadata": {},
     "output_type": "display_data"
    }
   ],
   "source": [
    "# set new variables to plot\n",
    "time2 = data2['time (s)']\n",
    "vel2 = data2['velocity (m/s)']\n",
    "\n",
    "\n",
    "# plot data just like before\n",
    "plt.scatter(time2, vel2)\n",
    "plt.title(\"Constant Speed?\")\n",
    "plt.xlabel(\"Time (s)\")\n",
    "plt.ylabel(\"Velocity (m)\")\n",
    "plt.autoscale(tight=True)\n",
    "\n",
    "# calculate trendline equation like before\n",
    "trend2 = np.polyfit(time2, vel2, 1)\n",
    "\n",
    "# plot trendline like before\n",
    "plt.plot(time2, np.poly1d(trend2)(time2), label='trendline')\n",
    "plt.legend(loc='upper left')"
   ]
  },
  {
   "cell_type": "code",
   "execution_count": 9,
   "metadata": {
    "collapsed": false
   },
   "outputs": [
    {
     "data": {
      "text/plain": [
       "array([ 0.6,  1.6])"
      ]
     },
     "execution_count": 9,
     "metadata": {},
     "output_type": "execute_result"
    }
   ],
   "source": [
    "# display the trendline's coefficients (slope, y-int)\n",
    "trend2"
   ]
  },
  {
   "cell_type": "markdown",
   "metadata": {
    "collapsed": true
   },
   "source": [
    "# Part Three\n",
    "Now the program has calulcated the velocity between each pair of position values.\n",
    "- Look at the blocks of code after **Part Two**. For each block, write a complete sentence to summarize what the program does.\n",
    "- Based on the velocity graph above, how well does the trendline fit the data? What does that mean about the motion?\n",
    "\n",
    "---\n",
    "## Saving Your Work\n",
    "This is running on a Google Compute Engine server on a distant planet and deletes what you've done after 20 minutes of inactivity. To save for later use or analysis you have a few options:\n",
    "- File > Download as > ipynb (to continue your analysis later)\n",
    "- File > Download as > pdf (static copy including code and graphs)\n",
    "- Right-click on a graph and select Save Image As ... (to share a pic)\n",
    "\n",
    "## Credits\n",
    "This notebook was designed by Adam LaMee. Find more activities and license info at [CODINGinK12.org](http://www.codingink12.org). And thanks to the great folks at [MyBinder.org](https://beta.mybinder.org/) this notebook is interactive without you needing to download it or install Jupyter on your own device."
   ]
  }
 ],
 "metadata": {
  "kernelspec": {
   "display_name": "Python 3",
   "language": "python",
   "name": "python3"
  },
  "language_info": {
   "codemirror_mode": {
    "name": "ipython",
    "version": 3
   },
   "file_extension": ".py",
   "mimetype": "text/x-python",
   "name": "python",
   "nbconvert_exporter": "python",
   "pygments_lexer": "ipython3",
   "version": "3.5.2"
  }
 },
 "nbformat": 4,
 "nbformat_minor": 0
}
