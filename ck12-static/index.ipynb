{
 "cells": [
  {
   "cell_type": "markdown",
   "metadata": {},
   "source": [
    "# Coding in K12 Interactive Demos\n",
    "Try out these activities from any device with a browser (desktop, mobile, or otherwise)\n",
    "\n",
    "### Start here\n",
    "- [Intro to Jupyter](./Intro_to_Jupyter.ipynb) is a 5-minute guide of how to use our activities. If you've never programmed before, this is a great place to start.\n",
    "\n",
    "### Earth/Space Science\n",
    "- [Quakes](./Quakes.ipynb) uncovers plate techtonics using seismic data. \n",
    "- [Global Temp](./GlobalTemp.ipynb) examines the effect of water on global climate using data from 1880-present.\n",
    "- [Stars](./Stars.ipynb) uses a huuuuuge star catalogue to look for patterns in brightness and temperature, create an H-R diagram, and see constellations.\n",
    "- [Tides](./Tides.ipynb) plots 5 years of sea-level height data to study the relationship between tides, moon phase, and the seasons.\n",
    "\n",
    "### Physical Science\n",
    "- [Motion](./Motion.ipynb) plots position vs. time data and fits a trendline; can be used with student-collected data.\n",
    "- Motion graph matching of [position](./Matching-position-graphs.ipynb) or [velocity](./Matching-velocity-graphs.ipynb) to model motion and practice relating algebraic equations with the graphs they represent.\n",
    "- [Elements](./Elements.ipynb) looks for trends in the peridodic table.\n",
    "- [CMS Event Analysis](./CMS_leptonic_decays.ipynb) applies conservation of charge, energy, and momentum to hunt for particles in data from CERN's LHC; used in Quarknet's Data Camp (grades 9-16).\n",
    "\n",
    "Visit [CODINGinK12.org](http://www.codingink12.org) to see what else we're up to."
   ]
  }
 ],
 "metadata": {
  "kernelspec": {
   "display_name": "Python 3",
   "language": "python",
   "name": "python3"
  },
  "language_info": {
   "codemirror_mode": {
    "name": "ipython",
    "version": 3
   },
   "file_extension": ".py",
   "mimetype": "text/x-python",
   "name": "python",
   "nbconvert_exporter": "python",
   "pygments_lexer": "ipython3",
   "version": "3.5.2"
  }
 },
 "nbformat": 4,
 "nbformat_minor": 0
}
