{
 "cells": [
  {
   "cell_type": "markdown",
   "metadata": {},
   "source": [
    "# Velocity Graph Matching\n",
    "In this activity, you'll use the *velocity function* to model different types of motion.\n",
    "\n",
    "To get started,\n",
    "- First, click the disc icon at the top to save the notebook. That makes it easier to start over later if you need to.\n",
    "- Go to the menu bar above and select **Kernel > Restart & Run All**.\n",
    "- You won't hurt anything by experimenting. If you break it, go to **File > Revert to checkpoint** to start over.\n",
    "- Is this your first time? Need a refresher? Try the 5-minute [Intro to Jupyter activity](./Intro_to_Jupyter.ipynb) and come back here. \n",
    "\n",
    "When you're ready, scroll down to **Part One**."
   ]
  },
  {
   "cell_type": "code",
   "execution_count": 1,
   "metadata": {
    "collapsed": true
   },
   "outputs": [],
   "source": [
    "# this cell only needs to be run once, but re-exectuing it doesn't hurt anything either\n",
    "# imports software packages (not too exciting)\n",
    "import pandas as pd\n",
    "import numpy as np\n",
    "%matplotlib inline\n",
    "import matplotlib as mpl\n",
    "import matplotlib.pyplot as plt\n",
    "inline_rc = dict(mpl.rcParams)"
   ]
  },
  {
   "cell_type": "code",
   "execution_count": 2,
   "metadata": {
    "collapsed": false
   },
   "outputs": [
    {
     "data": {
      "text/plain": [
       "<matplotlib.text.Text at 0x119216198>"
      ]
     },
     "execution_count": 2,
     "metadata": {},
     "output_type": "execute_result"
    },
    {
     "data": {
      "image/png": "[encoded data removed]",
      "text/plain": [
       "<matplotlib.figure.Figure at 0x115f14f60>"
      ]
     },
     "metadata": {},
     "output_type": "display_data"
    }
   ],
   "source": [
    "# this sets the coefficients\n",
    "vi = 0\n",
    "a = 0\n",
    "\n",
    "# this creates the data table\n",
    "time_list = []\n",
    "velocity_list = []\n",
    "t = 0\n",
    "\n",
    "while (t < 11):\n",
    "    vf = vi + a*t\n",
    "    time_list.append(t)\n",
    "    velocity_list.append(vf)\n",
    "    t = t + 1\n",
    "\n",
    "data = pd.DataFrame()\n",
    "data['time'] = time_list\n",
    "data['velocity'] = velocity_list\n",
    "del time_list, velocity_list\n",
    "\n",
    "# this creates a scatterplot\n",
    "plt.scatter(data['time'], data['velocity'])\n",
    "plt.title(\"this could use a better title\")\n",
    "plt.xlabel(\"labels are important, too\")\n",
    "plt.ylabel(\"I'm so lonely\")"
   ]
  },
  {
   "cell_type": "markdown",
   "metadata": {},
   "source": [
    "## Part One\n",
    "The code above makes a graph of a *velocity function*. It's a linear equation that predicts the velocity of an object:  \n",
    "$$v_f=v_i +at$$\n",
    "The variables are:  \n",
    "- final velocity, $v_f$\n",
    "- initial velocity, $v_i$\n",
    "- acceleration, $a$\n",
    "- time, $t$\n",
    "\n",
    "Edit the coefficients to values you think will match your graph, then re-excecute each cell to tell the program about the new values. Keep going until your group is satisfied with how well they match."
   ]
  },
  {
   "cell_type": "code",
   "execution_count": 3,
   "metadata": {
    "collapsed": true
   },
   "outputs": [],
   "source": [
    "# Uncomment the next line to make your graphs look like they're from xkcd.com\n",
    "#plt.xkcd();"
   ]
  },
  {
   "cell_type": "code",
   "execution_count": 4,
   "metadata": {
    "collapsed": true
   },
   "outputs": [],
   "source": [
    "# to make normal-looking plots again uncomment the next line and execute this cell\n",
    "#mpl.rcParams.update(inline_rc)"
   ]
  },
  {
   "cell_type": "markdown",
   "metadata": {},
   "source": [
    "---\n",
    "## Saving Your Work\n",
    "This is running on a Google Compute Engine server on a distant planet and deletes what you've done after 20 minutes of inactivity. To save for later use or analysis you have a few options:\n",
    "- File > Download as > ipynb (to continue your analysis later)\n",
    "- File > Download as > pdf (static copy including code and graphs)\n",
    "- Right-click on a graph and select Save Image As ... (to share a pic)\n",
    "\n",
    "## Credits\n",
    "This notebook was designed by Adam LaMee, who coordinated its development as the [PhysTEC](https://www.phystec.org/) Teacher-in-residence in the [University of Central Florida's Physics department](https://sciences.ucf.edu/physics/). Find more activities and license info at [CODINGinK12.org](http://www.codingink12.org). And thanks to the great folks at [MyBinder.org](https://beta.mybinder.org/) this notebook is interactive without you needing to download it or install Jupyter on your own device."
   ]
  }
 ],
 "metadata": {
  "kernelspec": {
   "display_name": "Python 3",
   "language": "python",
   "name": "python3"
  },
  "language_info": {
   "codemirror_mode": {
    "name": "ipython",
    "version": 3
   },
   "file_extension": ".py",
   "mimetype": "text/x-python",
   "name": "python",
   "nbconvert_exporter": "python",
   "pygments_lexer": "ipython3",
   "version": "3.5.2"
  }
 },
 "nbformat": 4,
 "nbformat_minor": 1
}
