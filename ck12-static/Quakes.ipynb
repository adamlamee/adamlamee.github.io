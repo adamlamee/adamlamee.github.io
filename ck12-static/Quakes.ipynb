{
 "cells": [
  {
   "cell_type": "markdown",
   "metadata": {},
   "source": [
    "#  Plotting Recent Earthquake Locations\n",
    "This activity analyzes data from the U.S. Geological Survey (USGS) on earthquakes and other seismic events around the world.  \n",
    "\n",
    "To get started,\n",
    "- First, click the disc icon at the top to save the notebook. That makes it easier to start over later if you need to.\n",
    "- Go to the menu bar above and select **Kernel > Restart & Run All**.\n",
    "- You won't hurt anything by experimenting. If you break it, go to **File > Revert to checkpoint** to start over.\n",
    "- Is this your first time? Need a refresher? Try the 5-minute [Intro to Jupyter activity](./Intro_to_Jupyter.ipynb) and come back here. \n",
    "\n",
    "When you're ready, scroll down to **Part One**."
   ]
  },
  {
   "cell_type": "code",
   "execution_count": 1,
   "metadata": {
    "collapsed": true
   },
   "outputs": [],
   "source": [
    "#importing what we'll need\n",
    "import numpy as np\n",
    "import pandas as pd\n",
    "%matplotlib inline\n",
    "import matplotlib.pyplot as plt\n",
    "pd.options.display.max_columns = 25"
   ]
  },
  {
   "cell_type": "code",
   "execution_count": 2,
   "metadata": {
    "collapsed": false
   },
   "outputs": [],
   "source": [
    "# All earthquake events in the last month; updates every 15 minutes\n",
    "data = pd.read_csv(\"http://earthquake.usgs.gov/earthquakes/feed/v1.0/summary/all_month.csv\")"
   ]
  },
  {
   "cell_type": "code",
   "execution_count": 3,
   "metadata": {
    "collapsed": false
   },
   "outputs": [
    {
     "data": {
      "text/html": [
       "<div>\n",
       "<style>\n",
       "    .dataframe thead tr:only-child th {\n",
       "        text-align: right;\n",
       "    }\n",
       "\n",
       "    .dataframe thead th {\n",
       "        text-align: left;\n",
       "    }\n",
       "\n",
       "    .dataframe tbody tr th {\n",
       "        vertical-align: top;\n",
       "    }\n",
       "</style>\n",
       "<table border=\"1\" class=\"dataframe\">\n",
       "  <thead>\n",
       "    <tr style=\"text-align: right;\">\n",
       "      <th></th>\n",
       "      <th>time</th>\n",
       "      <th>latitude</th>\n",
       "      <th>longitude</th>\n",
       "      <th>depth</th>\n",
       "      <th>mag</th>\n",
       "      <th>magType</th>\n",
       "      <th>nst</th>\n",
       "      <th>gap</th>\n",
       "      <th>dmin</th>\n",
       "      <th>rms</th>\n",
       "      <th>net</th>\n",
       "      <th>id</th>\n",
       "      <th>updated</th>\n",
       "      <th>place</th>\n",
       "      <th>type</th>\n",
       "      <th>horizontalError</th>\n",
       "      <th>depthError</th>\n",
       "      <th>magError</th>\n",
       "      <th>magNst</th>\n",
       "      <th>status</th>\n",
       "      <th>locationSource</th>\n",
       "      <th>magSource</th>\n",
       "    </tr>\n",
       "  </thead>\n",
       "  <tbody>\n",
       "    <tr>\n",
       "      <th>0</th>\n",
       "      <td>2017-11-12T19:53:51.420Z</td>\n",
       "      <td>34.180667</td>\n",
       "      <td>-118.320667</td>\n",
       "      <td>18.35</td>\n",
       "      <td>1.79</td>\n",
       "      <td>ml</td>\n",
       "      <td>10.0</td>\n",
       "      <td>107.00</td>\n",
       "      <td>0.06461</td>\n",
       "      <td>0.25</td>\n",
       "      <td>ci</td>\n",
       "      <td>ci37810311</td>\n",
       "      <td>2017-11-12T19:57:47.862Z</td>\n",
       "      <td>1km W of Burbank, CA</td>\n",
       "      <td>earthquake</td>\n",
       "      <td>1.25</td>\n",
       "      <td>1.60</td>\n",
       "      <td>0.196</td>\n",
       "      <td>20.0</td>\n",
       "      <td>automatic</td>\n",
       "      <td>ci</td>\n",
       "      <td>ci</td>\n",
       "    </tr>\n",
       "    <tr>\n",
       "      <th>1</th>\n",
       "      <td>2017-11-12T19:49:43.950Z</td>\n",
       "      <td>37.705500</td>\n",
       "      <td>-115.030700</td>\n",
       "      <td>7.00</td>\n",
       "      <td>1.30</td>\n",
       "      <td>ml</td>\n",
       "      <td>6.0</td>\n",
       "      <td>117.69</td>\n",
       "      <td>0.31000</td>\n",
       "      <td>NaN</td>\n",
       "      <td>nn</td>\n",
       "      <td>nn00612298</td>\n",
       "      <td>2017-11-12T19:51:45.975Z</td>\n",
       "      <td>39km NNE of Alamo, Nevada</td>\n",
       "      <td>earthquake</td>\n",
       "      <td>NaN</td>\n",
       "      <td>NaN</td>\n",
       "      <td>NaN</td>\n",
       "      <td>NaN</td>\n",
       "      <td>automatic</td>\n",
       "      <td>nn</td>\n",
       "      <td>nn</td>\n",
       "    </tr>\n",
       "    <tr>\n",
       "      <th>2</th>\n",
       "      <td>2017-11-12T19:37:36.807Z</td>\n",
       "      <td>62.987800</td>\n",
       "      <td>-150.760900</td>\n",
       "      <td>92.40</td>\n",
       "      <td>2.60</td>\n",
       "      <td>ml</td>\n",
       "      <td>NaN</td>\n",
       "      <td>NaN</td>\n",
       "      <td>NaN</td>\n",
       "      <td>0.60</td>\n",
       "      <td>ak</td>\n",
       "      <td>ak17186969</td>\n",
       "      <td>2017-11-12T19:44:51.131Z</td>\n",
       "      <td>81km NNW of Talkeetna, Alaska</td>\n",
       "      <td>earthquake</td>\n",
       "      <td>NaN</td>\n",
       "      <td>1.30</td>\n",
       "      <td>NaN</td>\n",
       "      <td>NaN</td>\n",
       "      <td>automatic</td>\n",
       "      <td>ak</td>\n",
       "      <td>ak</td>\n",
       "    </tr>\n",
       "    <tr>\n",
       "      <th>3</th>\n",
       "      <td>2017-11-12T19:31:44.270Z</td>\n",
       "      <td>19.302500</td>\n",
       "      <td>-155.137329</td>\n",
       "      <td>5.51</td>\n",
       "      <td>1.81</td>\n",
       "      <td>md</td>\n",
       "      <td>41.0</td>\n",
       "      <td>102.00</td>\n",
       "      <td>NaN</td>\n",
       "      <td>0.19</td>\n",
       "      <td>hv</td>\n",
       "      <td>hv61974811</td>\n",
       "      <td>2017-11-12T19:35:08.090Z</td>\n",
       "      <td>17km SE of Volcano, Hawaii</td>\n",
       "      <td>earthquake</td>\n",
       "      <td>0.45</td>\n",
       "      <td>0.69</td>\n",
       "      <td>0.190</td>\n",
       "      <td>21.0</td>\n",
       "      <td>automatic</td>\n",
       "      <td>hv</td>\n",
       "      <td>hv</td>\n",
       "    </tr>\n",
       "  </tbody>\n",
       "</table>\n",
       "</div>"
      ],
      "text/plain": [
       "                       time   latitude   longitude  depth   mag magType   nst  \\\n",
       "0  2017-11-12T19:53:51.420Z  34.180667 -118.320667  18.35  1.79      ml  10.0   \n",
       "1  2017-11-12T19:49:43.950Z  37.705500 -115.030700   7.00  1.30      ml   6.0   \n",
       "2  2017-11-12T19:37:36.807Z  62.987800 -150.760900  92.40  2.60      ml   NaN   \n",
       "3  2017-11-12T19:31:44.270Z  19.302500 -155.137329   5.51  1.81      md  41.0   \n",
       "\n",
       "      gap     dmin   rms net          id                   updated  \\\n",
       "0  107.00  0.06461  0.25  ci  ci37810311  2017-11-12T19:57:47.862Z   \n",
       "1  117.69  0.31000   NaN  nn  nn00612298  2017-11-12T19:51:45.975Z   \n",
       "2     NaN      NaN  0.60  ak  ak17186969  2017-11-12T19:44:51.131Z   \n",
       "3  102.00      NaN  0.19  hv  hv61974811  2017-11-12T19:35:08.090Z   \n",
       "\n",
       "                           place        type  horizontalError  depthError  \\\n",
       "0           1km W of Burbank, CA  earthquake             1.25        1.60   \n",
       "1      39km NNE of Alamo, Nevada  earthquake              NaN         NaN   \n",
       "2  81km NNW of Talkeetna, Alaska  earthquake              NaN        1.30   \n",
       "3     17km SE of Volcano, Hawaii  earthquake             0.45        0.69   \n",
       "\n",
       "   magError  magNst     status locationSource magSource  \n",
       "0     0.196    20.0  automatic             ci        ci  \n",
       "1       NaN     NaN  automatic             nn        nn  \n",
       "2       NaN     NaN  automatic             ak        ak  \n",
       "3     0.190    21.0  automatic             hv        hv  "
      ]
     },
     "execution_count": 3,
     "metadata": {},
     "output_type": "execute_result"
    }
   ],
   "source": [
    "data.head(4)"
   ]
  },
  {
   "cell_type": "code",
   "execution_count": 4,
   "metadata": {
    "collapsed": false
   },
   "outputs": [
    {
     "data": {
      "text/plain": [
       "(8920, 22)"
      ]
     },
     "execution_count": 4,
     "metadata": {},
     "output_type": "execute_result"
    }
   ],
   "source": [
    "# The .shape command displays the (number of rows , number of columns) in a file.\n",
    "data.shape"
   ]
  },
  {
   "cell_type": "markdown",
   "metadata": {},
   "source": [
    "## Part One\n",
    "The table above shows seismic reading (vibrations in the Earth) detected any time in the past month.\n",
    "- What do you think each of the column headings represent?\n",
    "- How many tremors were recorded in this past month?\n",
    "\n",
    "When you're ready, scroll down to **Part Two**."
   ]
  },
  {
   "cell_type": "code",
   "execution_count": 5,
   "metadata": {
    "collapsed": false
   },
   "outputs": [
    {
     "data": {
      "image/png": "[encoded data removed]",
      "text/plain": [
       "<matplotlib.figure.Figure at 0x1195bcc18>"
      ]
     },
     "metadata": {},
     "output_type": "display_data"
    }
   ],
   "source": [
    "# Set variables for scatter plot\n",
    "x = data.longitude\n",
    "y = data.latitude\n",
    "\n",
    "plt.scatter(x,y)\n",
    "plt.title('Title me!')\n",
    "plt.xlabel('I need a label')\n",
    "plt.ylabel('I could use one, too')\n",
    "plt.xlim(-180,180)\n",
    "plt.ylim(-90,90)\n",
    "\n",
    "# This actually shows the plot\n",
    "plt.show()"
   ]
  },
  {
   "cell_type": "markdown",
   "metadata": {},
   "source": [
    "## Part Two\n",
    "The code above generates a scatterplot with a point for each tremor in the data table.\n",
    "- The title and axis labels on the graph could use some work. Try editing the code above the graph, then run the code again to see the changes.\n",
    "- Do you notice a pattern in the graph? Are any shapes familiar?\n",
    "- Where do seismic readings tend to occur?\n",
    "\n",
    "When you're ready, scroll down to **Part Three**."
   ]
  },
  {
   "cell_type": "code",
   "execution_count": 6,
   "metadata": {
    "collapsed": false
   },
   "outputs": [
    {
     "data": {
      "image/png": "[encoded data removed]",
      "text/plain": [
       "<matplotlib.figure.Figure at 0x118996400>"
      ]
     },
     "metadata": {},
     "output_type": "display_data"
    }
   ],
   "source": [
    "data_filtered = data.query('depth > 5') #depth is in km\n",
    "\n",
    "x = data_filtered.longitude\n",
    "y = data_filtered.latitude\n",
    "plt.scatter(x,y)\n",
    "plt.title('Title me!')\n",
    "plt.xlabel('I need a label')\n",
    "plt.ylabel('I could use one, too')\n",
    "plt.xlim(-180,180)\n",
    "plt.ylim(-90,90)\n",
    "plt.show()"
   ]
  },
  {
   "cell_type": "markdown",
   "metadata": {},
   "source": [
    "## Part Three\n",
    "Now it's time to conduct your own investigation. Seismic events can be shallow (a few km) or more than 600 km deep. The code above lets you filter the data set by depth (it's called a \"query\").\n",
    "- Try filtering the data for only deep events, then make a plot.\n",
    "- Do you see any pattern in where the deepest earthquakes are?\n",
    "- Where do the shallowest earthquakes occur?\n",
    "\n",
    "---\n",
    "## Saving Your Work\n",
    "This is running on a Google Compute Engine server on a distant planet and deletes what you've done after 20 minutes of inactivity. To save for later use or analysis you have a few options:\n",
    "- File > Download as > ipynb (to continue your analysis later)\n",
    "- File > Download as > pdf (static copy including code and graphs)\n",
    "- Right-click on a graph and select Save Image As ... (to share a pic)\n",
    "\n",
    "## Credits\n",
    "This notebook was created by Physics teacher and Quarknet member Peter Apps, York Middle/High School, Retsof, NY, and modified by Adam LaMee. Find more activities and license info at [CODINGinK12.org](http://www.codingink12.org). The data come from the [USGS earthquakes page](http://earthquake.usgs.gov/earthquakes/feed/v1.0/csv.php). And thanks to the great folks at [MyBinder.org](https://beta.mybinder.org/) this notebook is interactive without you needing to download it or install Jupyter on your own device."
   ]
  }
 ],
 "metadata": {
  "anaconda-cloud": {},
  "kernelspec": {
   "display_name": "Python 3",
   "language": "python",
   "name": "python3"
  },
  "language_info": {
   "codemirror_mode": {
    "name": "ipython",
    "version": 3
   },
   "file_extension": ".py",
   "mimetype": "text/x-python",
   "name": "python",
   "nbconvert_exporter": "python",
   "pygments_lexer": "ipython3",
   "version": "3.5.2"
  }
 },
 "nbformat": 4,
 "nbformat_minor": 0
}
